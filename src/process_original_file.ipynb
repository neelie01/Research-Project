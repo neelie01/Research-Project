{
 "cells": [
  {
   "cell_type": "code",
   "execution_count": 101,
   "metadata": {},
   "outputs": [],
   "source": [
    "from q_value_calc_crosslinks import calcQ\n",
    "from idXML2df_all_hits import readAndProcessIdXMLAllHits\n",
    "from functions import get_target_id\n",
    "import re"
   ]
  },
  {
   "cell_type": "code",
   "execution_count": 102,
   "metadata": {},
   "outputs": [],
   "source": [
    "i = 2\n",
    "dataset = {1: { 'type': 'crosslink_data',\n",
    "                'name':'AChernev_080219_HeLa_RNA_UV',\n",
    "                'comparison':'opti_'},\n",
    "           2: { 'type': 'crosslink_data',\n",
    "                'name':'M_Raabe_A_Wulf_220421_270421_Expl3_Ecoli_XL_UV_S30_LB_bRPfrac_11',\n",
    "                'comparison':'perc'},\n",
    "           3: { 'type': 'crosslink_data',\n",
    "                'name':'M_Raabe_A_Wulf_220421_290421_Expl3_Ecoli_XL_DEB_S30_LB_bRPfrac_12',\n",
    "                'comparison':'perc'},\n",
    "           4: { 'type': 'crosslink_data',\n",
    "                'name':'MRaabe_LW_091221_171221_Expl2_XL_Ecoli_NM_S30_bRP_rep1_11',\n",
    "                'comparison':'perc'}}"
   ]
  },
  {
   "cell_type": "code",
   "execution_count": 103,
   "metadata": {},
   "outputs": [],
   "source": [
    "input_files = [f\"../data/{dataset[i]['type']}/{dataset[i]['name']}.idXML\", \n",
    "      f\"../data/{dataset[i]['type']}/{dataset[i]['name']}_{dataset[i]['comparison']}.idXML\"]"
   ]
  },
  {
   "cell_type": "code",
   "execution_count": 104,
   "metadata": {},
   "outputs": [
    {
     "name": "stderr",
     "output_type": "stream",
     "text": [
      "c:\\Users\\mail\\Research-Project\\src\\q_value_calc_crosslinks.py:100: FutureWarning: A value is trying to be set on a copy of a DataFrame or Series through chained assignment using an inplace method.\n",
      "The behavior will change in pandas 3.0. This inplace method will never work because the intermediate object on which we are setting values always behaves as a copy.\n",
      "\n",
      "For example, when doing 'df[col].method(value, inplace=True)', try using 'df.method({col: value}, inplace=True)' or df[col] = df[col].method(value) instead, to perform the operation inplace on the original object.\n",
      "\n",
      "\n",
      "  df[labelColName].replace(to_replace=-1, value=0, inplace=True)\n",
      "c:\\Users\\mail\\Research-Project\\src\\q_value_calc_crosslinks.py:100: FutureWarning: A value is trying to be set on a copy of a DataFrame or Series through chained assignment using an inplace method.\n",
      "The behavior will change in pandas 3.0. This inplace method will never work because the intermediate object on which we are setting values always behaves as a copy.\n",
      "\n",
      "For example, when doing 'df[col].method(value, inplace=True)', try using 'df.method({col: value}, inplace=True)' or df[col] = df[col].method(value) instead, to perform the operation inplace on the original object.\n",
      "\n",
      "\n",
      "  df[labelColName].replace(to_replace=-1, value=0, inplace=True)\n"
     ]
    }
   ],
   "source": [
    "for input_file in input_files:\n",
    "    df = readAndProcessIdXMLAllHits(input_file)\n",
    "    output_file = re.sub('.idXML', '.pkl', input_file)\n",
    "    df.to_pickle(output_file)\n",
    "    # filter dataframes\n",
    "    filter_col = 'PSMId'\n",
    "    filter_val = 1\n",
    "    df = df.loc[df[filter_col] == filter_val,:]\n",
    "    # compute q-values\n",
    "    q_vals = calcQ(df)\n",
    "    # compute target IDs\n",
    "    target_id = get_target_id(q_vals)\n",
    "    output_file = re.sub('.idXML', '_filtered.pkl', input_file)\n",
    "    target_id.to_pickle(output_file)"
   ]
  }
 ],
 "metadata": {
  "kernelspec": {
   "display_name": "rp",
   "language": "python",
   "name": "python3"
  },
  "language_info": {
   "codemirror_mode": {
    "name": "ipython",
    "version": 3
   },
   "file_extension": ".py",
   "mimetype": "text/x-python",
   "name": "python",
   "nbconvert_exporter": "python",
   "pygments_lexer": "ipython3",
   "version": "3.11.10"
  }
 },
 "nbformat": 4,
 "nbformat_minor": 2
}
