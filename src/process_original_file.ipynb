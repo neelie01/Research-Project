{
 "cells": [
  {
   "cell_type": "code",
   "execution_count": 3,
   "metadata": {},
   "outputs": [],
   "source": [
    "from q_value_calc_crosslinks import calcQ\n",
    "from idXML2df_all_hits import readAndProcessIdXMLAllHits\n",
    "from functions import get_target_id, read_top_down_data, get_datasets, rerank\n",
    "import re\n",
    "import os\n",
    "import numpy as np"
   ]
  },
  {
   "cell_type": "code",
   "execution_count": 4,
   "metadata": {},
   "outputs": [],
   "source": [
    "i = 1\n",
    "dataset = get_datasets()"
   ]
  },
  {
   "cell_type": "code",
   "execution_count": 5,
   "metadata": {},
   "outputs": [
    {
     "name": "stdout",
     "output_type": "stream",
     "text": [
      "['../data/crosslink_data/AChernev_080219_HeLa_RNA_UV.idXML']\n"
     ]
    }
   ],
   "source": [
    "directory = f\"../data/{dataset[i]['type']}/\"\n",
    "input_files = [directory + f\"{dataset[i]['file']}{dataset[i]['file_ending']}\"]\n",
    "if dataset[i]['comparison'] != None: \n",
    "      input_files.append(directory + f\"{dataset[i]['file']}_{dataset[i]['comparison']}{dataset[i]['file_ending']}\")\n",
    "print(input_files)"
   ]
  },
  {
   "cell_type": "code",
   "execution_count": 6,
   "metadata": {},
   "outputs": [
    {
     "name": "stderr",
     "output_type": "stream",
     "text": [
      "c:\\Users\\mail\\Research-Project\\src\\q_value_calc_crosslinks.py:101: FutureWarning: A value is trying to be set on a copy of a DataFrame or Series through chained assignment using an inplace method.\n",
      "The behavior will change in pandas 3.0. This inplace method will never work because the intermediate object on which we are setting values always behaves as a copy.\n",
      "\n",
      "For example, when doing 'df[col].method(value, inplace=True)', try using 'df.method({col: value}, inplace=True)' or df[col] = df[col].method(value) instead, to perform the operation inplace on the original object.\n",
      "\n",
      "\n",
      "  df[labelColName].replace(to_replace=-1, value=0, inplace=True)\n"
     ]
    }
   ],
   "source": [
    "directory += f\"{dataset[i]['name']}/\"\n",
    "if not os.path.exists(directory):\n",
    "    os.makedirs(directory)\n",
    "for input_file in input_files:\n",
    "    if dataset[i]['type'] == 'crosslink_data':\n",
    "        df = readAndProcessIdXMLAllHits(input_file)\n",
    "        classColName = 'NuXL:isXL'\n",
    "    elif dataset[i]['type'] == 'top_down_data':\n",
    "        df = read_top_down_data(input_file)\n",
    "        df['ScanNr'] = df['Scan']\n",
    "        df = rerank(df, 'ScanNr', 'Score', 'PSMId')\n",
    "        classColName = 'ModCount'\n",
    "    file_ending = dataset[i]['file_ending']\n",
    "    \n",
    "    # filter dataframes\n",
    "    filter_col = 'PSMId'\n",
    "    filter_val = 1\n",
    "    mask = df[df[filter_col] == filter_val].index\n",
    "\n",
    "    # compute q-values\n",
    "    df.sort_values(['Score', 'Label'], ascending=[False, True], inplace=True)\n",
    "    df['class-specific_q-val'] = np.NaN\n",
    "    df['cum_target_id'] = np.NaN\n",
    "    df.loc[mask,:] = calcQ(df.loc[mask,:], classColName = classColName)\n",
    "    # compute target IDs\n",
    "    df.loc[mask,:] = get_target_id(df.loc[mask,:], isXLColName=dataset[i]['group'])\n",
    "    output_file = f\"{dataset[i]['file']}\"\n",
    "    if dataset[i]['comparison'] != None and dataset[i]['comparison'] in input_file: \n",
    "        output_file += f\"_{dataset[i]['comparison']}\"\n",
    "    output_file += \".pkl\"\n",
    "    df.to_pickle(directory + output_file)"
   ]
  },
  {
   "cell_type": "code",
   "execution_count": 7,
   "metadata": {},
   "outputs": [
    {
     "name": "stdout",
     "output_type": "stream",
     "text": [
      "../data/crosslink_data/AChernev_080219/\n"
     ]
    }
   ],
   "source": [
    "print(directory)"
   ]
  }
 ],
 "metadata": {
  "kernelspec": {
   "display_name": "rp",
   "language": "python",
   "name": "python3"
  },
  "language_info": {
   "codemirror_mode": {
    "name": "ipython",
    "version": 3
   },
   "file_extension": ".py",
   "mimetype": "text/x-python",
   "name": "python",
   "nbconvert_exporter": "python",
   "pygments_lexer": "ipython3",
   "version": "3.11.10"
  }
 },
 "nbformat": 4,
 "nbformat_minor": 2
}
