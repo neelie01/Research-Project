{
 "cells": [
  {
   "cell_type": "code",
   "execution_count": 13,
   "metadata": {},
   "outputs": [],
   "source": [
    "from sklearn.svm import SVC\n",
    "from sklearn.preprocessing import MinMaxScaler\n",
    "from sklearn.model_selection import GridSearchCV, KFold\n",
    "from sklearn.pipeline import make_pipeline\n",
    "import numpy as np\n",
    "import pandas as pd\n",
    "from q_value_calc_crosslinks import calcQ\n",
    "import matplotlib.pyplot as plt\n",
    "from functions import get_target_id\n",
    "import re"
   ]
  },
  {
   "cell_type": "code",
   "execution_count": 14,
   "metadata": {},
   "outputs": [],
   "source": [
    "input_file = \"../data/crosslink_data/AChernev_080219_HeLa_RNA_UV.pkl\"\n",
    "#input_file_perc = \"../data/crosslink_data/AChernev_080219_HeLa_RNA_UV_opti_.pkl\"\n",
    "#input_file = \"../data/crosslink_data/M_Raabe_A_Wulf_220421_270421_Expl3_Ecoli_XL_UV_S30_LB_bRPfrac_11.pkl\" # rank 0\n",
    "#input_file_perc = \"../data/crosslink_data/M_Raabe_A_Wulf_220421_270421_Expl3_Ecoli_XL_UV_S30_LB_bRPfrac_11_perc.pkl\" # rank 0 - 7\n",
    "#input_file = \"../data/crosslink_data/M_Raabe_A_Wulf_220421_290421_Expl3_Ecoli_XL_DEB_S30_LB_bRPfrac_12.pkl\" # rank 0\n",
    "#input_file_perc = \"../data/crosslink_data/M_Raabe_A_Wulf_220421_290421_Expl3_Ecoli_XL_DEB_S30_LB_bRPfrac_12_perc.pkl\" # rank 0 - 7\n",
    "#input_file = \"../data/crosslink_data/MRaabe_LW_091221_171221_Expl2_XL_Ecoli_NM_S30_bRP_rep1_11.pkl\" # rank 0\n",
    "#input_file_perc = \"../data/crosslink_data/MRaabe_LW_091221_171221_Expl2_XL_Ecoli_NM_S30_bRP_rep1_11_perc.pkl\" # rank 0 - 7\n"
   ]
  },
  {
   "cell_type": "code",
   "execution_count": 15,
   "metadata": {},
   "outputs": [],
   "source": [
    "# read original dataframes\n",
    "original_df = pd.read_pickle(input_file)\n",
    "\n",
    "# filter dataframes\n",
    "filter_col = 'PSMId'\n",
    "filter_val = 1"
   ]
  },
  {
   "cell_type": "code",
   "execution_count": 16,
   "metadata": {},
   "outputs": [],
   "source": [
    "features = ['Score','peplen', 'NuXL:isXL', 'NuXL:modds', 'NuXL:pl_modds', \n",
    "                'NuXL:mass_error_p', 'NuXL:tag_XLed', 'NuXL:tag_unshifted' ,\n",
    "                'NuXL:tag_shifted', 'missed_cleavages', 'NuXL:ladder_score',\n",
    "                'variable_modifications']\n",
    "\n",
    "# filter data and sort according to descending score\n",
    "original_df = original_df.filter(np.concatenate([features,['ScanNr', 'rank', 'Label', 'PSMId']]))\n",
    "original_df.sort_values('Score',ascending=False, inplace=True)\n"
   ]
  },
  {
   "cell_type": "code",
   "execution_count": 17,
   "metadata": {},
   "outputs": [
    {
     "name": "stdout",
     "output_type": "stream",
     "text": [
      "Truncating to 500\n",
      "\n"
     ]
    }
   ],
   "source": [
    "# determine minority class \n",
    "minority_class = min({len(original_df.loc[original_df['NuXL:isXL'] == 0]), len(original_df.loc[original_df['NuXL:isXL'] == 1])})\n",
    "class_threshold = 500\n",
    "if (minority_class > class_threshold):\n",
    "    print(\"Truncating to \" + str(class_threshold) + \"\\n\") \n",
    "    minority_class = class_threshold\n",
    "\n",
    "# define training data (peptides with top and bottom scores of each class with PSMId = 1)\n",
    "pep_top = original_df.loc[(original_df['NuXL:isXL'] == 0) & (original_df[filter_col] == filter_val)][:int(minority_class/2)]\n",
    "pep_bottom = original_df.loc[(original_df['NuXL:isXL'] == 0) & (original_df[filter_col] == filter_val)][-int(minority_class/2):]\n",
    "XL_top = original_df.loc[(original_df['NuXL:isXL'] == 1) & (original_df[filter_col] == filter_val)][:int(minority_class/2)]\n",
    "XL_bottom = original_df.loc[(original_df['NuXL:isXL'] == 1) & (original_df[filter_col] == filter_val)][-int(minority_class/2):]\n",
    "train_idx = np.concatenate([pep_top.index, pep_bottom.index, XL_top.index, XL_bottom.index])\n",
    "\n",
    "# set train labels for training\n",
    "original_df.loc[pep_top.index,'train_label'] = 1\n",
    "original_df.loc[pep_bottom.index,'train_label'] = 0\n",
    "original_df.loc[XL_top.index,'train_label'] = 1\n",
    "original_df.loc[XL_bottom.index,'train_label'] = 0"
   ]
  },
  {
   "cell_type": "code",
   "execution_count": null,
   "metadata": {},
   "outputs": [],
   "source": [
    "# define function for setting new rank column\n",
    "def set_new_rank(x):\n",
    "    x.sort_values(\"Score\",ascending=False,inplace=True)\n",
    "    x[\"new_PSMId\"] = range(1,len(x) + 1)\n",
    "    return x\n",
    "\n",
    "# initialise the k-fold cross validator\n",
    "no_split = 5\n",
    "kf = KFold(n_splits=no_split, shuffle=True, random_state=1)\n",
    "\n",
    "param_grid = {\n",
    "        'C': np.power(float(2), [-5,-1,1,5,7,11,15])\n",
    "    }\n",
    "# create the pipeline\n",
    "pipe = make_pipeline(MinMaxScaler(), \n",
    "                        GridSearchCV(\n",
    "                            estimator=SVC(kernel='linear', probability=True), \n",
    "                            param_grid=param_grid, \n",
    "                            n_jobs=-1,\n",
    "                            scoring=\"accuracy\",\n",
    "                            cv=kf, \n",
    "                            refit=True))\n",
    "pipe.fit(original_df.loc[train_idx, features], original_df.loc[train_idx, 'train_label'])\n",
    "original_df['Score_old'] = original_df['Score']\n",
    "original_df.sort_values(['Score'], ascending=[False], inplace=True)\n",
    "original_df['Score'] = 1.0 - pipe.predict_proba(original_df.loc[:,features])\n",
    "# rerank PSMs\n",
    "original_df = original_df.groupby(\"ScanNr\")\\\n",
    "    .apply(\n",
    "        lambda x: set_new_rank(x)\n",
    "    )\n",
    "original_df.index = original_df.index.droplevel('ScanNr')\n",
    "\n",
    "# filter for rank = 0\n",
    "original_df_filtered_new = original_df.loc[original_df['new_PSMId'] == 1,:]\n",
    "original_df.sort_values(['Score', 'Score_old','PSMId'], ascending=[False, False, True], inplace=True)\n",
    "# compute q-values\n",
    "q_vals_SVM = calcQ(original_df_filtered_new)\n",
    "target_ID = get_target_id(q_vals_SVM)\n",
    "output_file = re.sub('.pkl', '_SVM.pkl', input_file)\n",
    "target_ID.to_pickle(output_file)"
   ]
  }
 ],
 "metadata": {
  "kernelspec": {
   "display_name": "rp",
   "language": "python",
   "name": "python3"
  },
  "language_info": {
   "codemirror_mode": {
    "name": "ipython",
    "version": 3
   },
   "file_extension": ".py",
   "mimetype": "text/x-python",
   "name": "python",
   "nbconvert_exporter": "python",
   "pygments_lexer": "ipython3",
   "version": "3.11.10"
  }
 },
 "nbformat": 4,
 "nbformat_minor": 2
}
