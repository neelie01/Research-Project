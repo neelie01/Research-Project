{
 "cells": [
  {
   "cell_type": "code",
   "execution_count": null,
   "metadata": {},
   "outputs": [],
   "source": [
    "import matplotlib.pyplot as plt\n",
    "import pandas as pd\n",
    "import numpy as np"
   ]
  },
  {
   "cell_type": "code",
   "execution_count": null,
   "metadata": {},
   "outputs": [],
   "source": [
    "input_file_original = \"../data/crosslink_data/AChernev_080219_HeLa_RNA_UV.pkl\"\n",
    "input_file_svm = \"../data/crosslink_data/AChernev_080219_HeLa_RNA_UV_SVM.pkl\"\n",
    "input_file_perc = \"../data/crosslink_data/AChernev_080219_HeLa_RNA_UV_opti_.pkl\"\n"
   ]
  },
  {
   "cell_type": "code",
   "execution_count": null,
   "metadata": {},
   "outputs": [],
   "source": [
    "# read original dataframes\n",
    "df_original = pd.read_pickle(input_file_original)\n",
    "df_svm = pd.read_pickle(input_file_svm)\n",
    "df_perc = pd.read_pickle(input_file_perc)"
   ]
  },
  {
   "cell_type": "code",
   "execution_count": null,
   "metadata": {},
   "outputs": [],
   "source": [
    "fig, axs = plt.subplots(2)\n",
    "axs[0].step(df_original.loc[(df_original['NuXL:isXL']== 1) & (df_original['class-specific_q-val']<= 0.1), 'class-specific_q-val'],df_original.loc[(df_original['NuXL:isXL']== 1) & (df_original['class-specific_q-val']<= 0.1), 'cum_target_id'], label=f\"original ({len(df_before)})\")\n",
    "axs[1].step(df_original.loc[(df_original['NuXL:isXL']== 0) & (df_original['class-specific_q-val']<= 0.1), 'class-specific_q-val'],df_original.loc[(df_original['NuXL:isXL']== 0) & (df_original['class-specific_q-val']<= 0.1), 'cum_target_id'], label=f\"orginal ({len(df_before)})\")\n",
    "axs[0].step(df_svm.loc[(df_svm['NuXL:isXL']== 1) & (df_svm['class-specific_q-val']<= 0.1), 'class-specific_q-val'],df_svm.loc[(df_svm['NuXL:isXL']== 1) & (df_svm['class-specific_q-val']<= 0.1), 'cum_target_id'], label=f\"SVM ({len(df_after)})\")\n",
    "axs[1].step(df_svm.loc[(df_svm['NuXL:isXL']== 0) & (df_svm['class-specific_q-val']<= 0.1), 'class-specific_q-val'],df_svm.loc[(df_svm['NuXL:isXL']== 0) & (df_svm['class-specific_q-val']<= 0.1), 'cum_target_id'], label=f\"SVM ({len(df_after)})\")\n",
    "axs[0].step(df_perc.loc[(df_perc['NuXL:isXL']== 1) & (df_perc['class-specific_q-val']<= 0.1), 'class-specific_q-val'],df_perc.loc[(df_perc['NuXL:isXL']== 1) & (df_perc['class-specific_q-val']<= 0.1), 'cum_target_id'], label=f\"perc ({len(df_perc)})\")\n",
    "axs[1].step(df_perc.loc[(df_perc['NuXL:isXL']== 0) & (df_perc['class-specific_q-val']<= 0.1), 'class-specific_q-val'],df_perc.loc[(df_perc['NuXL:isXL']== 0) & (df_perc['class-specific_q-val']<= 0.1), 'cum_target_id'], label=f\"perc ({len(df_perc)})\")\n",
    "axs[0].set_xlim(0,0.1)\n",
    "axs[1].set_xlim(0,0.1)\n",
    "axs[0].set_title(\"XL\")\n",
    "axs[1].set_title(\"Peptide\")\n",
    "axs[0].set_xlabel(\"q-value\")\n",
    "axs[1].set_xlabel(\"q-value\")\n",
    "axs[0].set_ylabel(\"no. target IDs\")\n",
    "axs[1].set_ylabel(\"no. target IDs\")\n",
    "axs[0].legend()\n",
    "axs[1].legend()\n",
    "str_title = re.search(\"_data/.*_(Expl|HeLa)\", input_file).group()[6:-5]\n",
    "fig.suptitle(str_title)\n",
    "fig.tight_layout()\n",
    "plt.show()"
   ]
  },
  {
   "cell_type": "code",
   "execution_count": null,
   "metadata": {},
   "outputs": [],
   "source": [
    "bins = np.linspace(0.8,1,25)\n",
    "plt.hist(df_svm.loc[df_svm[df_svm['Score'] > 0.8].index, 'Score'], label = 'SVM', histtype='step', bins=bins)\n",
    "plt.hist(df_perc.loc[df_perc[df_perc['Score'] > 0.8].index, 'Score'], label='opti', histtype='step', bins = bins)\n",
    "plt.legend()\n",
    "plt.show()"
   ]
  }
 ],
 "metadata": {
  "kernelspec": {
   "display_name": "rp",
   "language": "python",
   "name": "python3"
  },
  "language_info": {
   "codemirror_mode": {
    "name": "ipython",
    "version": 3
   },
   "file_extension": ".py",
   "mimetype": "text/x-python",
   "name": "python",
   "nbconvert_exporter": "python",
   "pygments_lexer": "ipython3",
   "version": "3.11.10"
  }
 },
 "nbformat": 4,
 "nbformat_minor": 2
}
